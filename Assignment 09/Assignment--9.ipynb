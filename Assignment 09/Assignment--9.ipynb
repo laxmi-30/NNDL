{
 "cells": [
  {
   "cell_type": "code",
   "execution_count": 6,
   "metadata": {},
   "outputs": [
    {
     "name": "stdout",
     "output_type": "stream",
     "text": [
      "m = 1.9078535587839998 c= 2.27149143296\n"
     ]
    }
   ],
   "source": [
    "#Assignment-9\n",
    "#Momentum Optimizer\n",
    "\n",
    "x=[0.2,0.4,0.6,0.8]\n",
    "y=[3.4,3.8,4.2,4.6]\n",
    "\n",
    "m=1\n",
    "c=-1\n",
    "n=0.1\n",
    "epochs=2\n",
    "ns=2\n",
    "r=0.9\n",
    "Vm=Vc=0\n",
    "\n",
    "for i in range(0,epochs,1):\n",
    "    j=0\n",
    "    gm=0\n",
    "    gc=0\n",
    "    for j in range(0,ns,1):\n",
    "        gm=(-1)*((y[j]-m*x[j]-c)*x[j])\n",
    "        gc=(-1)*(y[j]-m*x[j]-c)\n",
    "        Vm=(r*Vm)-(n*gm)\n",
    "        Vc=(r*Vc)-(n*gc)\n",
    "        m=m+Vm\n",
    "        c=c+Vc\n",
    "        #print(m,c,x[j],y[j])\n",
    "print(\"m =\",m,'c=',c)\n"
   ]
  },
  {
   "cell_type": "code",
   "execution_count": 7,
   "metadata": {},
   "outputs": [
    {
     "name": "stdout",
     "output_type": "stream",
     "text": [
      "MSE : 2.9234600417150896\n"
     ]
    }
   ],
   "source": [
    "yp=0\n",
    "s=0\n",
    "for i in range(0,ns,1):\n",
    "    yp=y[i]-m*x[i]+c  #calculating 'yp' value for each sample\n",
    "    s=s+(y[i]-yp)**2  #summing them up to calculate MSE\n",
    "s=s/ns\n",
    "print(\"MSE :\",s)"
   ]
  },
  {
   "cell_type": "code",
   "execution_count": null,
   "metadata": {},
   "outputs": [],
   "source": [
    "s"
   ]
  }
 ],
 "metadata": {
  "kernelspec": {
   "display_name": "Python 3",
   "language": "python",
   "name": "python3"
  },
  "language_info": {
   "codemirror_mode": {
    "name": "ipython",
    "version": 3
   },
   "file_extension": ".py",
   "mimetype": "text/x-python",
   "name": "python",
   "nbconvert_exporter": "python",
   "pygments_lexer": "ipython3",
   "version": "3.7.4"
  }
 },
 "nbformat": 4,
 "nbformat_minor": 2
}
