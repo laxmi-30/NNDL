{
 "cells": [
  {
   "cell_type": "code",
   "execution_count": 17,
   "metadata": {},
   "outputs": [],
   "source": [
    "#Assignment--8\n",
    "#BGD Optimizer\n",
    "import numpy as np\n",
    "import pandas as pd\n",
    "from sklearn.model_selection import train_test_split\n",
    "d = pd.read_csv('pressure_weight.csv')\n",
    "#print(d)"
   ]
  },
  {
   "cell_type": "code",
   "execution_count": 18,
   "metadata": {},
   "outputs": [],
   "source": [
    "x=np.array(d.iloc[:,0:1])\n",
    "y=np.array(d.iloc[:,1:2])\n",
    "x_min = x.min()\n",
    "x_max = x.max()\n",
    "y_min = y.min()\n",
    "y_max = y.max()"
   ]
  },
  {
   "cell_type": "code",
   "execution_count": 19,
   "metadata": {},
   "outputs": [],
   "source": [
    "#normalizing the given dataset\n",
    "for i in range(len(x)):\n",
    "    x[i] = (x[i]-x.min())/(x.max()-x.min())\n",
    "    y[i] = (y[i]-y.min())/(y.max()-y.min())\n"
   ]
  },
  {
   "cell_type": "code",
   "execution_count": 20,
   "metadata": {},
   "outputs": [
    {
     "name": "stdout",
     "output_type": "stream",
     "text": [
      "[[0.97429361]\n",
      " [1.        ]\n",
      " [0.9652772 ]]\n"
     ]
    }
   ],
   "source": [
    "#spliting training and testing data\n",
    "train_x,test_x = train_test_split(x,test_size =0.1)\n",
    "train_y,test_y= train_test_split(y,test_size =0.1)\n",
    "\n",
    "print(test_y)\n",
    "m=1;\n",
    "c=1;\n",
    "eta=0.1;\n",
    "epochs=100000;\n",
    "for i in range(epochs):\n",
    "    tm = 0;\n",
    "    tc=0;\n",
    "    for j in range(len(train_x)):\n",
    "        p =m*train_x[j]+c\n",
    "        temp= train_y[j]-p\n",
    "        tm += temp*train_x[j]\n",
    "        tc += temp\n",
    "    gdm = -(tm)/len(train_x)\n",
    "    gdc = -(tc)/len(train_x)\n",
    "    deltam = -eta*gdm\n",
    "    deltac = -eta*gdc\n",
    "    m = m + deltam\n",
    "    c = c + deltac\n"
   ]
  },
  {
   "cell_type": "code",
   "execution_count": 21,
   "metadata": {},
   "outputs": [
    {
     "name": "stdout",
     "output_type": "stream",
     "text": [
      "Final m value is:  [0.01521025] Final c value is:  [0.94790029]\n"
     ]
    }
   ],
   "source": [
    "#printing final m and c values  \n",
    "print(\"Final m value is: \",m,\"Final c value is: \",c)\n"
   ]
  },
  {
   "cell_type": "code",
   "execution_count": 22,
   "metadata": {},
   "outputs": [
    {
     "name": "stdout",
     "output_type": "stream",
     "text": [
      "MSE for training data: [0.00365209]\n",
      "RMSE for training data: [0.06043253]\n",
      "Mean Absolute Error for trained dataset: [0.03368839]\n"
     ]
    }
   ],
   "source": [
    "# calculating Mean square error, root mean square error and mean absolute error for training data set\n",
    "q = 0\n",
    "q1=0\n",
    "for i in range(len(train_x)):\n",
    "    v=m*train_x[i]+c\n",
    "    z = train_y[i]-v\n",
    "    q += z**2\n",
    "    q1+=abs(z)\n",
    "\n",
    "mse_train = q/len(train_x)\n",
    "mae_train = q1/len(train_x)\n",
    "print(\"MSE for training data:\",mse_train)\n",
    "print(\"RMSE for training data:\",mse_train**0.5)\n",
    "print(\"Mean Absolute Error for trained dataset:\",mae_train)\n"
   ]
  },
  {
   "cell_type": "code",
   "execution_count": 23,
   "metadata": {},
   "outputs": [
    {
     "name": "stdout",
     "output_type": "stream",
     "text": [
      "MSE for test data: [0.00058685]\n",
      "RMSE for testing data: [0.02422508]\n",
      "Mean Absolute Error for testing data: [0.02206887]\n"
     ]
    }
   ],
   "source": [
    "# Calculating MSE, RMSE and Mean Absolute Error for testing data set\n",
    "w =0\n",
    "w1=0\n",
    "for i in range(len(test_x)):\n",
    "    v=m*train_x[i]+c\n",
    "    z = train_y[i]-v\n",
    "    w += z**2\n",
    "    w1 +=abs(z)\n",
    "\n",
    "mse_test = w/len(test_x)\n",
    "mae_test = w1/len(test_x)\n",
    "print(\"MSE for test data:\",mse_test)\n",
    "print(\"RMSE for testing data:\",mse_test**0.5)\n",
    "print(\"Mean Absolute Error for testing data:\",mae_test)\n"
   ]
  },
  {
   "cell_type": "code",
   "execution_count": 24,
   "metadata": {},
   "outputs": [
    {
     "name": "stdout",
     "output_type": "stream",
     "text": [
      "[[577.8       ]\n",
      " [578.12382655]\n",
      " [576.30841528]\n",
      " [578.6       ]\n",
      " [578.6       ]\n",
      " [531.96914484]\n",
      " [568.77140909]\n",
      " [578.6       ]\n",
      " [540.57743624]\n",
      " [573.6864163 ]\n",
      " [570.15786962]\n",
      " [573.05985194]\n",
      " [573.4555768 ]\n",
      " [574.70870553]\n",
      " [572.63115001]\n",
      " [573.38962266]\n",
      " [573.42259973]\n",
      " [574.70870553]\n",
      " [574.18107238]\n",
      " [574.93954503]\n",
      " [573.12580608]\n",
      " [575.5661094 ]\n",
      " [572.26840222]\n",
      " [569.03664918]\n",
      " [574.90656796]\n",
      " [575.5661094 ]\n",
      " [575.76397183]\n",
      " [574.64275139]\n",
      " [572.76305829]\n",
      " [578.6       ]]\n"
     ]
    }
   ],
   "source": [
    "#Denormalisation of the dataset\n",
    "for i in range(len(x)):\n",
    "    x[i] = x[i]*(x_max - x_min)+x_min\n",
    "    y[i] = y[i]*(y_max - y_min)+y_min\n",
    "print(y)"
   ]
  },
  {
   "cell_type": "code",
   "execution_count": 25,
   "metadata": {},
   "outputs": [
    {
     "name": "stdout",
     "output_type": "stream",
     "text": [
      "Enter value of x:23\n",
      "Weight of liquid nitrogen based on pressure is: [567.87080758]\n"
     ]
    }
   ],
   "source": [
    "# Deploying the model  \n",
    "x_value =float(input(\"Enter value of x:\"))\n",
    "x_value = (x_value-x_min)/(x_max-x_min)\n",
    "y_value = m*x_value+c\n",
    "y_value = y_value*(y_max-y_min)+y_min\n",
    "\n",
    "print(\"Weight of liquid nitrogen based on pressure is:\",y_value)"
   ]
  },
  {
   "cell_type": "code",
   "execution_count": null,
   "metadata": {},
   "outputs": [],
   "source": []
  }
 ],
 "metadata": {
  "kernelspec": {
   "display_name": "Python 3",
   "language": "python",
   "name": "python3"
  },
  "language_info": {
   "codemirror_mode": {
    "name": "ipython",
    "version": 3
   },
   "file_extension": ".py",
   "mimetype": "text/x-python",
   "name": "python",
   "nbconvert_exporter": "python",
   "pygments_lexer": "ipython3",
   "version": "3.7.4"
  }
 },
 "nbformat": 4,
 "nbformat_minor": 2
}
