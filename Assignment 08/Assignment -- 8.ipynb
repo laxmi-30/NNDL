{
 "cells": [
  {
   "cell_type": "code",
   "execution_count": 7,
   "metadata": {},
   "outputs": [
    {
     "name": "stdout",
     "output_type": "stream",
     "text": [
      "DATASET:\n",
      "\n",
      "X \t Y\n",
      "75.1 \t 577.8\n",
      "74.3 \t 577.0\n",
      "88.7 \t 570.9\n",
      "114.6 \t 578.6\n",
      "98.5 \t 572.4\n",
      "112.0 \t 411.2\n",
      "114.8 \t 531.7\n",
      "62.2 \t 563.9\n",
      "107.0 \t 406.7\n",
      "90.5 \t 507.1\n",
      "73.8 \t 496.4\n",
      "115.8 \t 505.2\n",
      "99.4 \t 506.4\n",
      "93.0 \t 510.2\n",
      "73.9 \t 503.9\n",
      "65.7 \t 506.2\n",
      "66.2 \t 506.3\n",
      "77.9 \t 510.2\n",
      "109.8 \t 508.6\n",
      "105.4 \t 510.9\n",
      "88.6 \t 505.4\n",
      "89.6 \t 512.8\n",
      "73.8 \t 502.8\n",
      "101.3 \t 493.0\n",
      "120.0 \t 510.8\n",
      "75.9 \t 512.8\n",
      "76.2 \t 513.4\n",
      "81.9 \t 510.0\n",
      "84.3 \t 504.3\n",
      "98.0 \t 522.0\n"
     ]
    }
   ],
   "source": [
    "#Assignment 8\n",
    "#Batch Gradient Descent\n",
    "import pandas as pd\n",
    "data = pd.read_csv(\"C:/Users/vinny/Downloads/NNDL/bgd2.csv\")\n",
    "#data\n",
    "y=data['Y']\n",
    "x=data['X']\n",
    "print(\"DATASET:\\n\")\n",
    "print('X','\\t','Y')\n",
    "for j in range(0,len(data),1):\n",
    "    print(x[j],'\\t',y[j]) #printing dataset"
   ]
  },
  {
   "cell_type": "code",
   "execution_count": 8,
   "metadata": {},
   "outputs": [
    {
     "name": "stdout",
     "output_type": "stream",
     "text": [
      "1 -1 75.1 577.8\n",
      "1 -1 74.3 577.0\n",
      "#2 dem = -37626.39 dec = -503.69999999999993 \n",
      "\n",
      "3763.639 49.37 75.1 577.8\n",
      "3763.639 49.37 74.3 577.0\n",
      "#2 dem = 20962602.52875 dec = 280615.8033 \n",
      "\n",
      "#4 m = -2092496.613875 c= -28012.210330000005\n"
     ]
    }
   ],
   "source": [
    "\n",
    "#1\n",
    "m=1\n",
    "c=-1\n",
    "n=0.1\n",
    "epochs=2\n",
    "ns=2\n",
    "#2\n",
    "it=0\n",
    "dec=0\n",
    "dem=0\n",
    "for i in range(0,epochs,1):\n",
    "    dem=0\n",
    "    dec=0\n",
    "    for j in range(0,ns,1):\n",
    "        print(m,c,x[j],y[j])\n",
    "        dem=dem+((y[j]-(m*x[j])-c)*x[j])\n",
    "        dec=dec+((y[j]-(m*x[j])-c))\n",
    "        \n",
    "    dem=-dem/2\n",
    "    dec=-dec/2\n",
    "    print('#2 dem =',dem,'dec =',dec,'\\n')\n",
    "    \n",
    "    dm=(-1)*n*dem\n",
    "    dc=(-1)*n*dec\n",
    "    \n",
    "    m=m+dm\n",
    "    c=c+dc\n",
    "print(\"#4 m =\",m,'c=',c)\n",
    "        \n"
   ]
  },
  {
   "cell_type": "code",
   "execution_count": 9,
   "metadata": {},
   "outputs": [
    {
     "name": "stdout",
     "output_type": "stream",
     "text": [
      "MSE : 2.4424603072444584e+16\n"
     ]
    }
   ],
   "source": [
    "yp=0\n",
    "s=0\n",
    "for i in range(0,ns,1):\n",
    "    yp=y[i]-m*x[i]+c  #calculating 'yp' value for each sample\n",
    "    s=s+(y[i]-yp)**2  #summing them up to calculate MSE\n",
    "s=s/ns\n",
    "print(\"MSE :\",s)"
   ]
  }
 ],
 "metadata": {
  "kernelspec": {
   "display_name": "Python 3",
   "language": "python",
   "name": "python3"
  },
  "language_info": {
   "codemirror_mode": {
    "name": "ipython",
    "version": 3
   },
   "file_extension": ".py",
   "mimetype": "text/x-python",
   "name": "python",
   "nbconvert_exporter": "python",
   "pygments_lexer": "ipython3",
   "version": "3.7.4"
  }
 },
 "nbformat": 4,
 "nbformat_minor": 2
}
