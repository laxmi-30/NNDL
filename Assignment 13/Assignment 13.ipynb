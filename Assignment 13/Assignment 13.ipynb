{
 "cells": [
  {
   "cell_type": "code",
   "execution_count": 1,
   "metadata": {
    "colab": {
     "base_uri": "https://localhost:8080/"
    },
    "id": "s7GZvG9neUoa",
    "outputId": "c2b4d31c-725d-465e-bf3b-097b57c7e3b4"
   },
   "outputs": [
    {
     "name": "stdout",
     "output_type": "stream",
     "text": [
      "The minimum value obtained at m=1.29 , c=1.27\n"
     ]
    }
   ],
   "source": [
    "#ASSIGNEMENT 13\n",
    "#ADAGRAD OPTIMIZER\n",
    "\n",
    "x=[0.2,0.4,0.6,0.8]\n",
    "y=[3.4,3.8,4.2,4.6] \n",
    "\n",
    "m=1\n",
    "c=1\n",
    "epochs=2 \n",
    "Gm=Gc=0\n",
    "n=0.1  \n",
    "ns=2\n",
    "e=10**(-8)\n",
    "\n",
    "for i in range(0,epochs,1):\n",
    "    for j in range(0,ns,1):\n",
    "        gm=-(y[j]-m*x[j]-c)*x[j]\n",
    "        gc=-(y[j]-m*x[j]-c)\n",
    "        Gm=Gm+(gm**2)\n",
    "        Gc=Gc+(gc**2)\n",
    "        dm=-((n)/(Gm+e)**(0.5))*(gm)\n",
    "        dc=-((n)/(Gc+e)**(0.5))*(gc)\n",
    "        m=m+dm\n",
    "        c=c+dc\n",
    "\n",
    "print(\"The minimum value obtained at m=%.2f\"%(m),\", c=%.2f\"%(c))  #print values m and c"
   ]
  },
  {
   "cell_type": "code",
   "execution_count": 2,
   "metadata": {
    "colab": {
     "base_uri": "https://localhost:8080/"
    },
    "id": "w0soRZ4Wumlb",
    "outputId": "101e8b6f-7a18-4f0f-dc9a-fdf519b8bf91"
   },
   "outputs": [
    {
     "name": "stdout",
     "output_type": "stream",
     "text": [
      "Mean Square Error (MSE) :  3.7681108141413606\n"
     ]
    }
   ],
   "source": [
    "\n",
    "yp=[]\n",
    "s=0\n",
    "for i in range(ns):\n",
    "    p=(m*x[i])+c\n",
    "    yp.append(p)\n",
    "\n",
    "for i in range(ns):\n",
    "    s+=(y[i]-yp[i])**2\n",
    "mse=s/ns\n",
    "print(\"Mean Square Error (MSE) : \",mse)"
   ]
  },
  {
   "cell_type": "code",
   "execution_count": null,
   "metadata": {},
   "outputs": [],
   "source": []
  }
 ],
 "metadata": {
  "colab": {
   "name": "Untitled4.ipynb",
   "provenance": []
  },
  "kernelspec": {
   "display_name": "Python 3",
   "language": "python",
   "name": "python3"
  },
  "language_info": {
   "codemirror_mode": {
    "name": "ipython",
    "version": 3
   },
   "file_extension": ".py",
   "mimetype": "text/x-python",
   "name": "python",
   "nbconvert_exporter": "python",
   "pygments_lexer": "ipython3",
   "version": "3.7.4"
  }
 },
 "nbformat": 4,
 "nbformat_minor": 1
}
