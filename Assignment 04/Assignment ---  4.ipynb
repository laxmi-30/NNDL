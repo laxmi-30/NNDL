{
 "cells": [
  {
   "cell_type": "code",
   "execution_count": 2,
   "metadata": {},
   "outputs": [
    {
     "name": "stdout",
     "output_type": "stream",
     "text": [
      "Hello, World\n"
     ]
    }
   ],
   "source": [
    "print(\"Hello, World\")"
   ]
  },
  {
   "cell_type": "code",
   "execution_count": 3,
   "metadata": {},
   "outputs": [],
   "source": [
    "#Stochastic Gradient Descent \n",
    "import numpy as np\n",
    "import pandas as pd\n",
    "from sklearn.model_selection import train_test_split"
   ]
  },
  {
   "cell_type": "code",
   "execution_count": 5,
   "metadata": {},
   "outputs": [
    {
     "name": "stdout",
     "output_type": "stream",
     "text": [
      "      X    Y\n",
      "0   7.6  157\n",
      "1   7.1  174\n",
      "2   8.2  175\n",
      "3   7.5  188\n",
      "4   7.4  171\n",
      "5   7.8  143\n",
      "6   7.3  217\n",
      "7   8.0  190\n",
      "8   7.1  142\n",
      "9   7.5  190\n",
      "10  8.1  215\n",
      "11  7.0  199\n",
      "12  7.3  262\n",
      "13  7.8  105\n",
      "14  7.3  121\n",
      "15  8.0   81\n",
      "16  8.5   82\n",
      "17  7.1  210\n",
      "18  8.2  202\n",
      "19  7.9  155\n",
      "20  7.6  157\n",
      "21  8.8  147\n",
      "22  7.2  133\n",
      "23  7.9   53\n",
      "24  8.1   56\n",
      "25  7.7  113\n",
      "26  8.4   35\n",
      "27  7.4  125\n",
      "28  7.3   76\n",
      "29  8.5   48\n",
      "30  7.8  147\n",
      "31  6.7  117\n",
      "32  7.1  182\n",
      "33  7.3   87\n"
     ]
    }
   ],
   "source": [
    "d = pd.read_csv('Union Carbide Technical Report.csv')\n",
    "print(d)"
   ]
  },
  {
   "cell_type": "code",
   "execution_count": 6,
   "metadata": {},
   "outputs": [
    {
     "name": "stdout",
     "output_type": "stream",
     "text": [
      "           X         Y\n",
      "0   0.428571  0.537445\n",
      "1   0.190476  0.612335\n",
      "2   0.714286  0.616740\n",
      "3   0.380952  0.674009\n",
      "4   0.333333  0.599119\n",
      "5   0.523810  0.475771\n",
      "6   0.285714  0.801762\n",
      "7   0.619048  0.682819\n",
      "8   0.190476  0.471366\n",
      "9   0.380952  0.682819\n",
      "10  0.666667  0.792952\n",
      "11  0.142857  0.722467\n",
      "12  0.285714  1.000000\n",
      "13  0.523810  0.308370\n",
      "14  0.285714  0.378855\n",
      "15  0.619048  0.202643\n",
      "16  0.857143  0.207048\n",
      "17  0.190476  0.770925\n",
      "18  0.714286  0.735683\n",
      "19  0.571429  0.528634\n",
      "20  0.428571  0.537445\n",
      "21  1.000000  0.493392\n",
      "22  0.238095  0.431718\n",
      "23  0.571429  0.079295\n",
      "24  0.666667  0.092511\n",
      "25  0.476190  0.343612\n",
      "26  0.809524  0.000000\n",
      "27  0.333333  0.396476\n",
      "28  0.285714  0.180617\n",
      "29  0.857143  0.057269\n",
      "30  0.523810  0.493392\n",
      "31  0.000000  0.361233\n",
      "32  0.190476  0.647577\n",
      "33  0.285714  0.229075\n"
     ]
    }
   ],
   "source": [
    "x_min = d['X'].min()\n",
    "x_max = d['X'].max()\n",
    "y_min = d['Y'].min()\n",
    "y_max = d['Y'].max()\n",
    "\n",
    "#normalisation\n",
    "d=(d-d.min())/(d.max()-d.min())\n",
    "print(d)"
   ]
  },
  {
   "cell_type": "code",
   "execution_count": 7,
   "metadata": {},
   "outputs": [
    {
     "name": "stdout",
     "output_type": "stream",
     "text": [
      "6.7\n",
      "8.8\n",
      "35\n",
      "262\n"
     ]
    }
   ],
   "source": [
    "x=np.array(d.iloc[:,0:1])\n",
    "y=np.array(d.iloc[:,1:2])\n",
    "\n",
    "print(x_min)\n",
    "print(x_max)\n",
    "print(y_min)\n",
    "print(y_max)\n"
   ]
  },
  {
   "cell_type": "code",
   "execution_count": 8,
   "metadata": {},
   "outputs": [
    {
     "name": "stdout",
     "output_type": "stream",
     "text": [
      "30\n",
      "4\n",
      "[[0.53744493]\n",
      " [0.39647577]\n",
      " [0.34361233]\n",
      " [0.52863436]\n",
      " [0.80176211]\n",
      " [0.20704846]\n",
      " [0.18061674]\n",
      " [0.07929515]\n",
      " [0.73568282]\n",
      " [0.43171806]\n",
      " [0.05726872]\n",
      " [0.47136564]\n",
      " [0.20264317]\n",
      " [0.72246696]\n",
      " [0.64757709]\n",
      " [0.30837004]\n",
      " [0.49339207]\n",
      " [0.61674009]\n",
      " [0.6123348 ]\n",
      " [0.68281938]\n",
      " [0.47577093]\n",
      " [0.79295154]\n",
      " [0.49339207]\n",
      " [0.67400881]\n",
      " [0.53744493]\n",
      " [0.36123348]\n",
      " [0.68281938]\n",
      " [0.37885463]\n",
      " [0.59911894]\n",
      " [0.        ]]\n"
     ]
    }
   ],
   "source": [
    "#Splitting training and testing data\n",
    "train_x,test_x = train_test_split(x,test_size =0.1)\n",
    "train_y,test_y= train_test_split(y,test_size =0.1)\n",
    "ltrx=len(train_x)\n",
    "print(ltrx)\n",
    "ltey=len(test_y)\n",
    "print(ltey)\n",
    "print(train_y)\n"
   ]
  },
  {
   "cell_type": "code",
   "execution_count": 9,
   "metadata": {},
   "outputs": [
    {
     "name": "stdout",
     "output_type": "stream",
     "text": [
      "Final m value is:  [0.27520415] Final c value is:  [0.36858199]\n"
     ]
    }
   ],
   "source": [
    "m=1;\n",
    "c=1;\n",
    "n=0.1;\n",
    "epochs=10;\n",
    "\n",
    "for i in range(epochs):\n",
    "    for j in range(len(train_x)):\n",
    "        temp= train_y[j]-(m*train_x[j])-c\n",
    "        gdm = -train_x[j]*temp\n",
    "        gdc = -temp\n",
    "        dm = -n*gdm\n",
    "        dc = -n*gdc\n",
    "        m = m + dm\n",
    "        c = c + dc\n",
    "#printing final m and c values  \n",
    "print(\"Final m value is: \",m,\"Final c value is: \",c)"
   ]
  },
  {
   "cell_type": "code",
   "execution_count": 10,
   "metadata": {},
   "outputs": [
    {
     "name": "stdout",
     "output_type": "stream",
     "text": [
      "mean square error for tarined data: 0.0\n",
      "Root mean square error for tarined data: 0.0\n",
      "mean absolute error for trained dataset: 0.0\n"
     ]
    }
   ],
   "source": [
    "# calculating Mean square error, Root mean square error, mean absolute error for training dataset\n",
    "q = 0\n",
    "q1=0\n",
    "for i in range(len(train_x)):\n",
    "    v=m*train_x[i]+c\n",
    "    z = int(train_y[i])-int(v)\n",
    "    q += z**2\n",
    "    q1 +=abs(z)\n",
    "\n",
    "mse_train = q/len(train_x)\n",
    "mae_train = q1/len(train_x)\n",
    "print(\"mean square error for tarined data:\",mse_train)\n",
    "print(\"Root mean square error for tarined data:\",mse_train**0.5)\n",
    "print(\"mean absolute error for trained dataset:\",mae_train)\n"
   ]
  },
  {
   "cell_type": "code",
   "execution_count": 11,
   "metadata": {},
   "outputs": [
    {
     "name": "stdout",
     "output_type": "stream",
     "text": [
      "mean square error for testing data: 0.0\n",
      "Root mean square error for testing data: 0.0\n",
      "mean absolute error for testing data: 0.0\n"
     ]
    }
   ],
   "source": [
    "# calculating Mean square error, Root mean square error, mean absolute error for testing dataset\n",
    "w =0\n",
    "w1=0\n",
    "for i in range(len(test_x)):\n",
    "    v=m*train_x[i]+c\n",
    "    z = int(train_y[i])-int(v)\n",
    "    w += z**2\n",
    "    w1 += abs(z)\n",
    "\n",
    "mse_test = w/len(test_x)\n",
    "mae_test = w1/len(test_x)\n",
    "print(\"mean square error for testing data:\",mse_test)\n",
    "print(\"Root mean square error for testing data:\",mse_test**0.5)\n",
    "print(\"mean absolute error for testing data:\",mae_test)\n"
   ]
  },
  {
   "cell_type": "code",
   "execution_count": 14,
   "metadata": {},
   "outputs": [
    {
     "name": "stdout",
     "output_type": "stream",
     "text": [
      "[[157.]\n",
      " [174.]\n",
      " [175.]\n",
      " [188.]\n",
      " [171.]\n",
      " [143.]\n",
      " [217.]\n",
      " [190.]\n",
      " [142.]\n",
      " [190.]\n",
      " [215.]\n",
      " [199.]\n",
      " [262.]\n",
      " [105.]\n",
      " [121.]\n",
      " [ 81.]\n",
      " [ 82.]\n",
      " [210.]\n",
      " [202.]\n",
      " [155.]\n",
      " [157.]\n",
      " [147.]\n",
      " [133.]\n",
      " [ 53.]\n",
      " [ 56.]\n",
      " [113.]\n",
      " [ 35.]\n",
      " [125.]\n",
      " [ 76.]\n",
      " [ 48.]\n",
      " [147.]\n",
      " [117.]\n",
      " [182.]\n",
      " [ 87.]]\n"
     ]
    }
   ],
   "source": [
    "# Denormalising the data\n",
    "for i in range(len(x)):\n",
    "    x[i] = x[i]*(x_max-x_min)+x_min\n",
    "    y[i] = y[i]*(y_max-y_min)+y_min\n",
    "print(y)"
   ]
  },
  {
   "cell_type": "code",
   "execution_count": 12,
   "metadata": {},
   "outputs": [
    {
     "name": "stdout",
     "output_type": "stream",
     "text": [
      "Enter loat at previous hour: 12\n",
      "Bicarbonates of well water based on pH value is:  [276.33387967]\n"
     ]
    }
   ],
   "source": [
    "# Deploying the Stochastic Gradeint Descent model to predict data\n",
    "x_val = float(input(\"Enter loat at previous hour: \"))\n",
    "x_val = (x_val-x_min)/(x_max-x_min)\n",
    "y_val = m*x_val+c\n",
    "y_val = y_val*(y_max-y_min)+y_min\n",
    "print(\"Bicarbonates of well water based on pH value is: \",y_val)"
   ]
  },
  {
   "cell_type": "code",
   "execution_count": null,
   "metadata": {},
   "outputs": [],
   "source": []
  }
 ],
 "metadata": {
  "kernelspec": {
   "display_name": "Python 3",
   "language": "python",
   "name": "python3"
  },
  "language_info": {
   "codemirror_mode": {
    "name": "ipython",
    "version": 3
   },
   "file_extension": ".py",
   "mimetype": "text/x-python",
   "name": "python",
   "nbconvert_exporter": "python",
   "pygments_lexer": "ipython3",
   "version": "3.7.4"
  }
 },
 "nbformat": 4,
 "nbformat_minor": 2
}
