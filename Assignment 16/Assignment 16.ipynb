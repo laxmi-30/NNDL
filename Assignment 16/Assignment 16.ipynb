{
 "cells": [
  {
   "cell_type": "code",
   "execution_count": 1,
   "metadata": {},
   "outputs": [],
   "source": [
    "#ASSIGNMENT 16\n",
    "#RMS PROP\n",
    "\n",
    "import numpy as np\n",
    "import pandas as pd\n",
    "from sklearn.model_selection import train_test_split\n",
    "d = pd.read_csv('Active power load dataset.csv')"
   ]
  },
  {
   "cell_type": "code",
   "execution_count": 2,
   "metadata": {},
   "outputs": [
    {
     "name": "stdout",
     "output_type": "stream",
     "text": [
      "81\n",
      "9\n"
     ]
    }
   ],
   "source": [
    "x_min = d['X'].min()\n",
    "x_max = d['X'].max()\n",
    "y_min = d['Y'].min()\n",
    "y_max = d['Y'].max()\n",
    "\n",
    "#Normalization\n",
    "d=(d-d.min())/(d.max()-d.min())\n",
    "\n",
    "x=np.array(d.iloc[:,0:1])\n",
    "y=np.array(d.iloc[:,1:2])\n",
    "\n",
    "#Spliting the data into training data and testing data\n",
    "train_x,test_x = train_test_split(x,test_size =0.1)\n",
    "train_y,test_y= train_test_split(y,test_size =0.1)\n",
    "print(len(train_x))\n",
    "print(len(test_y))\n",
    "\n",
    "#print(train_y)"
   ]
  },
  {
   "cell_type": "code",
   "execution_count": 4,
   "metadata": {},
   "outputs": [
    {
     "name": "stdout",
     "output_type": "stream",
     "text": [
      "m= [1.01601723] c= [-0.98330832]\n"
     ]
    }
   ],
   "source": [
    "m=1\n",
    "c=-1\n",
    "n=0.0001\n",
    "epochs=2\n",
    "Em=Ec=0\n",
    "e=10**-8\n",
    "r=0.9#v\n",
    "for i in range(0,epochs,1):\n",
    "    for j in range(0,len(train_x),1):\n",
    "        val=train_y[j]-m*train_x[j]-c\n",
    "        gm= -val*train_x[j]\n",
    "        gc= -val\n",
    "        Em=(r*Em)+(1-r)*gm*gm\n",
    "        Ec=(r*Ec)+(1-r)*gc*gc\n",
    "        dm=(-n/((Em+e)**0.5))*gm\n",
    "        dc=(-n/((Ec+e)**0.5))*gc\n",
    "        m=m+dm\n",
    "        c=c+dc\n",
    "        \n",
    "print(\"m=\",m,\"c=\",c)"
   ]
  },
  {
   "cell_type": "code",
   "execution_count": 5,
   "metadata": {},
   "outputs": [
    {
     "name": "stdout",
     "output_type": "stream",
     "text": [
      "MSE for trained data: 0.012345679012345678\n",
      "RMSE for trained data: 0.1111111111111111\n",
      "MAE for trained dataset: 0.012345679012345678\n"
     ]
    }
   ],
   "source": [
    "# MSE, RMSE, Mean Absolute Error for training dataset\n",
    "p=0\n",
    "q=0\n",
    "for i in range(len(train_x)):\n",
    "    u=m*train_x[i]+c\n",
    "    z = int(train_y[i])-int(u)\n",
    "    p += z**2\n",
    "    q +=abs(z)\n",
    "\n",
    "mse_train = p/len(train_x)\n",
    "mae_train = q/len(train_x)\n",
    "print(\"MSE for trained data:\",mse_train)\n",
    "print(\"RMSE for trained data:\",mse_train**0.5)\n",
    "print(\"MAE for trained dataset:\",mae_train)"
   ]
  },
  {
   "cell_type": "code",
   "execution_count": 6,
   "metadata": {},
   "outputs": [
    {
     "name": "stdout",
     "output_type": "stream",
     "text": [
      "MSE for testing data: 0.0\n",
      "RMSE for testing data: 0.0\n",
      "Mean Absolute Error for testing data: 0.0\n"
     ]
    }
   ],
   "source": [
    "# MSE, RMSE, Mean Absolute Error for testing dataset\n",
    "f =0\n",
    "g=0\n",
    "for i in range(len(test_x)):\n",
    "    t=m*test_x[i]+c\n",
    "    z = int(test_y[i])-int(t)\n",
    "    f += z**2\n",
    "    g += abs(z)\n",
    "\n",
    "\n",
    "mse_test = f/len(test_x)\n",
    "mae_test = g/len(test_x)\n",
    "print(\"MSE for testing data:\",mse_test)\n",
    "print(\"RMSE for testing data:\",mse_test**0.5)\n",
    "print(\"Mean Absolute Error for testing data:\",mae_test)\n"
   ]
  },
  {
   "cell_type": "code",
   "execution_count": 7,
   "metadata": {},
   "outputs": [
    {
     "name": "stdout",
     "output_type": "stream",
     "text": [
      "Enter load at previous hour: 6754.987\n",
      "Load at particular hour based on load at previous hour is :  [3013.80663787]\n"
     ]
    }
   ],
   "source": [
    "# Denormalising the data\n",
    "for i in range(len(x)):\n",
    "    x[i] = ((x[i]*(x_max-x_min))+x_min)\n",
    "    y[i] = ((y[i]*(y_max-y_min))+y_min)\n",
    "\n",
    "# Deploying model to predict data\n",
    "x_value = float(input(\"Enter load at previous hour: \"))\n",
    "x_value = (x_value-x_min)/(x_max-x_min)\n",
    "y_value = m*x_value+c\n",
    "y_value = y_value*(y_max-y_min)+y_min\n",
    "print(\"Load at particular hour based on load at previous hour is : \",y_value)"
   ]
  },
  {
   "cell_type": "code",
   "execution_count": null,
   "metadata": {},
   "outputs": [],
   "source": []
  }
 ],
 "metadata": {
  "kernelspec": {
   "display_name": "Python 3",
   "language": "python",
   "name": "python3"
  },
  "language_info": {
   "codemirror_mode": {
    "name": "ipython",
    "version": 3
   },
   "file_extension": ".py",
   "mimetype": "text/x-python",
   "name": "python",
   "nbconvert_exporter": "python",
   "pygments_lexer": "ipython3",
   "version": "3.7.4"
  }
 },
 "nbformat": 4,
 "nbformat_minor": 2
}
