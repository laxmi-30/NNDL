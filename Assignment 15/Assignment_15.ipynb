{
  "nbformat": 4,
  "nbformat_minor": 0,
  "metadata": {
    "colab": {
      "name": "Assignment 15",
      "provenance": []
    },
    "kernelspec": {
      "name": "python3",
      "display_name": "Python 3"
    },
    "language_info": {
      "name": "python"
    }
  },
  "cells": [
    {
      "cell_type": "code",
      "metadata": {
        "colab": {
          "base_uri": "https://localhost:8080/"
        },
        "id": "NtwPZTx-Gx_B",
        "outputId": "4aa6216c-11e5-4eb6-e570-e13f56d4a85b"
      },
      "source": [
        "#ASSIGNMENT 15\n",
        "#RMS PROP Optimizer\n",
        "\n",
        "x=[0.2,0.4,0.6,0.8]\n",
        "y=[3.4,3.8,4.2,4.6]  \n",
        "\n",
        "m=1\n",
        "c=-1\n",
        "ns=2\n",
        "r=0.9\n",
        "n=0.0001      \n",
        "epochs=2 \n",
        "Em=Ec=0\n",
        "e=10**(-8)\n",
        "\n",
        "for i in range(0,epochs,1):\n",
        "  for j in range(0,ns,1):\n",
        "    gm=-(y[j]-m*x[j]-c)*x[j]\n",
        "    gc=-(y[j]-m*x[j]-c)\n",
        "    Em=(r*Em)+(1-r)*(gm**2)\n",
        "    Ec=(r*Ec)+(1-r)*(gc**2)\n",
        "    dm=-((n)/(Em+e)**(0.5))*(gm)\n",
        "    dc=-((n)/(Ec+e)**(0.5))*(gc)\n",
        "    m=m+dm\n",
        "    c=c+dc\n",
        "print(\"m=\",m,\" c=\",c)\n"
      ],
      "execution_count": 15,
      "outputs": [
        {
          "output_type": "stream",
          "text": [
            "m= 1.0009501467090172  c= -0.9990861249943553\n"
          ],
          "name": "stdout"
        }
      ]
    },
    {
      "cell_type": "code",
      "metadata": {
        "colab": {
          "base_uri": "https://localhost:8080/"
        },
        "id": "Mnu68dRqHDip",
        "outputId": "bc9d6202-91e5-4cd7-c267-87a566748ab3"
      },
      "source": [
        "yp=[]\n",
        "s=0\n",
        "for i in range(len(x)):\n",
        "  p=(m*x[i])+c\n",
        "  yp.append(p)\n",
        "for i in range(len(x)):\n",
        "  s+=(y[i]-yp[i])**2\n",
        "mse=s/ns\n",
        "print(\"Mean Square Error (MSE) : \",mse)"
      ],
      "execution_count": 17,
      "outputs": [
        {
          "output_type": "stream",
          "text": [
            "Mean Square Error (MSE) :  40.574812848808406\n"
          ],
          "name": "stdout"
        }
      ]
    },
    {
      "cell_type": "markdown",
      "metadata": {
        "id": "xiJzGIHdG90y"
      },
      "source": [
        ""
      ]
    }
  ]
}