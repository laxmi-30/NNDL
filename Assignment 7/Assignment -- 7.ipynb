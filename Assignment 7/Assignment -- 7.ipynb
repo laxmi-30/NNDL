{
 "cells": [
  {
   "cell_type": "code",
   "execution_count": 3,
   "metadata": {},
   "outputs": [
    {
     "name": "stdout",
     "output_type": "stream",
     "text": [
      "1 -1 0.2 3.4\n",
      "1 -1 0.4 3.8\n",
      "#2 dem = -1.3 dec = -4.3 \n",
      "\n",
      "1.13 -0.5700000000000001 0.2 3.4\n",
      "1.13 -0.5700000000000001 0.4 3.8\n",
      "#2 dem = -1.1580000000000001 dec = -3.831 \n",
      "\n",
      "#4 m = 1.2458 c= -0.18690000000000007\n"
     ]
    }
   ],
   "source": [
    "#Assignment-7\n",
    "#Batch Gradient Descent\n",
    "x=[0.2,0.4]\n",
    "y=[3.4,3.8]\n",
    "\n",
    "#1\n",
    "m=1\n",
    "c=-1\n",
    "n=0.1\n",
    "epochs=2\n",
    "ns=2\n",
    "#2\n",
    "it=0\n",
    "dec=0\n",
    "dem=0\n",
    "for i in range(0,epochs,1):\n",
    "    dem=0\n",
    "    dec=0\n",
    "    for j in range(0,ns,1):\n",
    "        print(m,c,x[j],y[j])\n",
    "        dem=dem+((y[j]-(m*x[j])-c)*x[j])\n",
    "        dec=dec+((y[j]-(m*x[j])-c))\n",
    "        \n",
    "    dem=-dem/2\n",
    "    dec=-dec/2\n",
    "    print('#2 dem =',dem,'dec =',dec,'\\n')\n",
    "    \n",
    "    dm=(-1)*n*dem\n",
    "    dc=(-1)*n*dec\n",
    "    \n",
    "    m=m+dm\n",
    "    c=c+dc\n",
    "print(\"#4 m =\",m,'c=',c)\n",
    "        \n"
   ]
  },
  {
   "cell_type": "code",
   "execution_count": 4,
   "metadata": {},
   "outputs": [
    {
     "name": "stdout",
     "output_type": "stream",
     "text": [
      "MSE : 0.32983738600000007\n"
     ]
    }
   ],
   "source": [
    "yp=0\n",
    "s=0\n",
    "for i in range(0,ns,1):\n",
    "    yp=y[i]-m*x[i]+c  #calculating 'yp' value for each sample\n",
    "    s=s+(y[i]-yp)**2  #summing them up to calculate MSE\n",
    "s=s/ns\n",
    "print(\"MSE :\",s)"
   ]
  },
  {
   "cell_type": "code",
   "execution_count": null,
   "metadata": {},
   "outputs": [],
   "source": []
  }
 ],
 "metadata": {
  "kernelspec": {
   "display_name": "Python 3",
   "language": "python",
   "name": "python3"
  },
  "language_info": {
   "codemirror_mode": {
    "name": "ipython",
    "version": 3
   },
   "file_extension": ".py",
   "mimetype": "text/x-python",
   "name": "python",
   "nbconvert_exporter": "python",
   "pygments_lexer": "ipython3",
   "version": "3.7.4"
  }
 },
 "nbformat": 4,
 "nbformat_minor": 2
}
