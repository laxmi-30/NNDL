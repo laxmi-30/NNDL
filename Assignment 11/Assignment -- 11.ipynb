{
 "cells": [
  {
   "cell_type": "code",
   "execution_count": 3,
   "metadata": {},
   "outputs": [
    {
     "name": "stdout",
     "output_type": "stream",
     "text": [
      "m =  0.32571559634585595 c =  -3.18153748753536\n"
     ]
    }
   ],
   "source": [
    "#Assignment-11\n",
    "#Nesteror Accelerated Gradient Optimizer[NAG]\n",
    "\n",
    "x=[0.2,0.4,0.6,0.8]\n",
    "y=[3.4,3.8,4.2,4.6]\n",
    "\n",
    "m=1\n",
    "c=-1\n",
    "n=0.1\n",
    "epochs=2\n",
    "ns=2\n",
    "r=0.9\n",
    "Vm=Vc=0\n",
    "\n",
    "for i in range(0,epochs,1):\n",
    "\n",
    "    for j in range(0,ns,1):\n",
    "        gm=-(y[j]-(m+r*Vm)*x[j]-(c+r*Vc))*x[j]\n",
    "        gc=-(y[j]-(m+r*Vm)*x[j]-(c+r*Vc))\n",
    "        Vm=n*gm\n",
    "        Vc=n*gc\n",
    "        m=m+Vm\n",
    "        c=c+Vc\n",
    "\n",
    "print(\"m = \",m,\"c = \",c)       \n"
   ]
  },
  {
   "cell_type": "code",
   "execution_count": 4,
   "metadata": {},
   "outputs": [
    {
     "name": "stdout",
     "output_type": "stream",
     "text": [
      "MSE : 12.425011698638247\n"
     ]
    }
   ],
   "source": [
    "yp=0\n",
    "s=0\n",
    "for i in range(0,ns,1):\n",
    "    yp=y[i]-(m+(r*Vm)*x[i])-(c+(r*Vc))#calculating 'yp' value for each sample\n",
    "    s=s+(y[i]-yp)**2  #Asumming them up to calculate MSE\n",
    "s=s/ns\n",
    "print(\"MSE :\",s)"
   ]
  },
  {
   "cell_type": "code",
   "execution_count": null,
   "metadata": {},
   "outputs": [],
   "source": [
    "      "
   ]
  }
 ],
 "metadata": {
  "kernelspec": {
   "display_name": "Python 3",
   "language": "python",
   "name": "python3"
  },
  "language_info": {
   "codemirror_mode": {
    "name": "ipython",
    "version": 3
   },
   "file_extension": ".py",
   "mimetype": "text/x-python",
   "name": "python",
   "nbconvert_exporter": "python",
   "pygments_lexer": "ipython3",
   "version": "3.7.4"
  }
 },
 "nbformat": 4,
 "nbformat_minor": 2
}
