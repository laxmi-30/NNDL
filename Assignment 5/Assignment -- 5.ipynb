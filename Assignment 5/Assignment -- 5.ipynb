{
 "cells": [
  {
   "cell_type": "code",
   "execution_count": 6,
   "metadata": {},
   "outputs": [
    {
     "name": "stdout",
     "output_type": "stream",
     "text": [
      "[0.2, 0.4, 3.4, 3.8, 0.6, 0.8, 4.2, 4.6]\n",
      "\n",
      "Batches : [[0.2, 0.4, 3.4, 3.8], [0.6, 0.8, 4.2, 4.6]]\n"
     ]
    }
   ],
   "source": [
    "#Assignment 5\n",
    "#Minibatch Gradient Descent Algorithm\n",
    "x=[0.2,0.4,0.6,0.8]\n",
    "y=[3.4,3.8,4.2,4.6]\n",
    "m=1\n",
    "c=-1\n",
    "n=0.1\n",
    "epochs=2\n",
    "bs=2\n",
    "ns=4\n",
    "nb=int(ns/bs)\n",
    "\n",
    "#2 splitting the data into batches\n",
    "t=[]\n",
    "p=0\n",
    "i=0\n",
    "v=0\n",
    "q=0\n",
    "w=0\n",
    "\n",
    "for k in range(0,nb,1):\n",
    "    v=0\n",
    "    for i in range(q,nb*bs,1):\n",
    "        if v<bs:\n",
    "            #print('i=',w)\n",
    "            t.append(x[w])\n",
    "            v=v+1\n",
    "            w=w+1\n",
    "        else:\n",
    "            t.append(y[p])\n",
    "            p=p+1\n",
    "    i=i+1\n",
    "print(t)\n",
    "\n",
    "a=[]\n",
    "f=0\n",
    "for i in range(0,nb,1):\n",
    "    a.append(t[f:(f+bs*nb)])\n",
    "    f=f+(bs*nb)\n",
    "print('\\nBatches :',a)"
   ]
  },
  {
   "cell_type": "code",
   "execution_count": 7,
   "metadata": {},
   "outputs": [
    {
     "name": "stdout",
     "output_type": "stream",
     "text": [
      "m = 1.74491399 c = 0.49570617\n"
     ]
    }
   ],
   "source": [
    "#s=-2\n",
    "s0=0\n",
    "z=1\n",
    "dem=0\n",
    "dec=0\n",
    "dm=0\n",
    "dc=0\n",
    "#c=-1\n",
    "for i in range(0,epochs,1): #iters\n",
    "    \n",
    "    for b in range(0,nb,1): #batches\n",
    "        \n",
    "        s0=2\n",
    "        dem=0\n",
    "        dec=0\n",
    "        \n",
    "        for s in range(0,bs,1):\n",
    "            dem=dem+((a[b][s0]-(m*a[b][s])-c)*a[b][s])\n",
    "            dec=dec+(a[b][s0]-(m*a[b][s])-c)\n",
    "            s0=s0+1  \n",
    "        dem=-dem/bs\n",
    "        dec=-dec/bs\n",
    "        dm=-n*dem\n",
    "        dc=-n*dec\n",
    "        m=m+dm\n",
    "        c=c+dc\n",
    "        \n",
    "print('m =',m,'c =',c)"
   ]
  },
  {
   "cell_type": "code",
   "execution_count": 8,
   "metadata": {},
   "outputs": [
    {
     "name": "stdout",
     "output_type": "stream",
     "text": [
      "MSE : 0.2941774257630666\n"
     ]
    }
   ],
   "source": [
    "yp=0\n",
    "s=0\n",
    "for i in range(0,ns,1):\n",
    "    yp=y[i]-m*x[i]+c  #calculating 'yp' value for each sample\n",
    "    s=s+(y[i]-yp)**2  #summing them up to calculate MSE\n",
    "s=s/ns\n",
    "print(\"MSE :\",s)"
   ]
  },
  {
   "cell_type": "code",
   "execution_count": null,
   "metadata": {},
   "outputs": [],
   "source": []
  }
 ],
 "metadata": {
  "kernelspec": {
   "display_name": "Python 3",
   "language": "python",
   "name": "python3"
  },
  "language_info": {
   "codemirror_mode": {
    "name": "ipython",
    "version": 3
   },
   "file_extension": ".py",
   "mimetype": "text/x-python",
   "name": "python",
   "nbconvert_exporter": "python",
   "pygments_lexer": "ipython3",
   "version": "3.7.4"
  }
 },
 "nbformat": 4,
 "nbformat_minor": 2
}
