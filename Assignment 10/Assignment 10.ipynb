{
 "cells": [
  {
   "cell_type": "code",
   "execution_count": 14,
   "metadata": {},
   "outputs": [
    {
     "name": "stdout",
     "output_type": "stream",
     "text": [
      "Hello, World!!!\n"
     ]
    }
   ],
   "source": [
    "print(\"Hello, World!!!\")"
   ]
  },
  {
   "cell_type": "code",
   "execution_count": 15,
   "metadata": {},
   "outputs": [],
   "source": [
    "#Assignment 10\n",
    "\n",
    "import numpy as np\n",
    "import pandas as pd\n",
    "from sklearn.model_selection import train_test_split\n",
    "d = pd.read_csv('Active power load dataset.csv')"
   ]
  },
  {
   "cell_type": "code",
   "execution_count": 16,
   "metadata": {},
   "outputs": [],
   "source": [
    "x_min = d['X'].min()\n",
    "x_max = d['X'].max()\n",
    "y_min = d['Y'].min()\n",
    "y_max = d['Y'].max()"
   ]
  },
  {
   "cell_type": "code",
   "execution_count": 17,
   "metadata": {},
   "outputs": [
    {
     "name": "stdout",
     "output_type": "stream",
     "text": [
      "           X         Y\n",
      "0   0.372781  0.354624\n",
      "1   0.354624  0.458458\n",
      "2   0.458458  0.591230\n",
      "3   0.591230  0.461944\n",
      "4   0.461944  0.535625\n",
      "..       ...       ...\n",
      "85  0.093702  0.170179\n",
      "86  0.170179  0.016130\n",
      "87  0.016130  0.134190\n",
      "88  0.134190  0.136176\n",
      "89  0.136176  0.038421\n",
      "\n",
      "[90 rows x 2 columns]\n"
     ]
    }
   ],
   "source": [
    "#Normalisation\n",
    "d=(d-d.min())/(d.max()-d.min())\n",
    "print(d)\n",
    "x=np.array(d.iloc[:,0:1])\n",
    "y=np.array(d.iloc[:,1:2])"
   ]
  },
  {
   "cell_type": "code",
   "execution_count": 18,
   "metadata": {},
   "outputs": [],
   "source": [
    "#Spliting training and testing data\n",
    "train_x,test_x = train_test_split(x,test_size =0.1)\n",
    "train_y,test_y= train_test_split(y,test_size =0.1)"
   ]
  },
  {
   "cell_type": "code",
   "execution_count": 19,
   "metadata": {},
   "outputs": [
    {
     "name": "stdout",
     "output_type": "stream",
     "text": [
      "Final updated model parametres m =  [0.15670405] and c = [0.31716372]\n"
     ]
    }
   ],
   "source": [
    "m=1\n",
    "c=1\n",
    "eta=0.01\n",
    "epochs=100\n",
    "gama = 0.9\n",
    "vm=0\n",
    "vc=0\n",
    "for i in range(epochs):\n",
    "    for j in range(len(train_x)):\n",
    "        temp= train_y[j]-(m*train_x[j])-c\n",
    "        gdm = -train_x[j]*temp\n",
    "        gdc = -temp\n",
    "        deltam = -eta*gdm\n",
    "        deltac = -eta*gdc\n",
    "        vm = gama*vm +deltam\n",
    "        vc = gama*vc +deltac\n",
    "        m = m + vm\n",
    "        c = c + vc\n",
    "#printing final model parametres(m and c) values  \n",
    "print(\"Final updated model parametres m = \",m,\"and c =\",c)"
   ]
  },
  {
   "cell_type": "code",
   "execution_count": 20,
   "metadata": {},
   "outputs": [
    {
     "name": "stdout",
     "output_type": "stream",
     "text": [
      "MSE for tarining data: 0.012345679012345678\n",
      "RMSE for training data: 0.1111111111111111\n",
      "Mean Absolute Error for trained dataset: 0.012345679012345678\n"
     ]
    }
   ],
   "source": [
    "# Calculating MSE,RMSE and Mean Absolute Error for training data set\n",
    "q = 0\n",
    "q1=0\n",
    "for i in range(len(train_x)):\n",
    "    v=m*train_x[i]+c\n",
    "    z = int(train_y[i])-int(v)\n",
    "    q += z**2\n",
    "    q1+=abs(z)\n",
    "\n",
    "mse_train = q/len(train_x)\n",
    "mae_train = q1/len(train_x)\n",
    "print(\"MSE for tarining data:\",mse_train)\n",
    "print(\"RMSE for training data:\",mse_train**0.5)\n",
    "print(\"Mean Absolute Error for trained dataset:\",mae_train)"
   ]
  },
  {
   "cell_type": "code",
   "execution_count": 21,
   "metadata": {},
   "outputs": [
    {
     "name": "stdout",
     "output_type": "stream",
     "text": [
      "MSE for test data: 0.0\n",
      "RMSE for testing data: 0.0\n",
      "Mean Absolute Error for testing data: 0.0\n",
      "[[5571.46296 ]\n",
      " [5970.82752 ]\n",
      " [6481.4904  ]\n",
      " [5984.2332  ]\n",
      " [6267.62304 ]\n",
      " [6930.4248  ]\n",
      " [5588.76564 ]\n",
      " [6626.4588  ]\n",
      " [6750.85104 ]\n",
      " [6439.55868 ]\n",
      " [6807.2796  ]\n",
      " [7679.89584 ]\n",
      " [6700.34592 ]\n",
      " [6531.99552 ]\n",
      " [6932.29536 ]\n",
      " [6796.368   ]\n",
      " [6439.55868 ]\n",
      " [6721.5456  ]\n",
      " [6529.50144 ]\n",
      " [5793.90372 ]\n",
      " [6303.63132 ]\n",
      " [5725.94004 ]\n",
      " [7070.7168  ]\n",
      " [7136.1864  ]\n",
      " [6550.0776  ]\n",
      " [5892.264   ]\n",
      " [6762.38616 ]\n",
      " [8053.69608 ]\n",
      " [6961.6008  ]\n",
      " [7543.96848 ]\n",
      " [6841.5732  ]\n",
      " [6550.0776  ]\n",
      " [6313.14    ]\n",
      " [6801.35616 ]\n",
      " [6801.35616 ]\n",
      " [6581.87712 ]\n",
      " [6538.23072 ]\n",
      " [6633.00576 ]\n",
      " [6060.6144  ]\n",
      " [6320.62224 ]\n",
      " [6439.55868 ]\n",
      " [6395.7564  ]\n",
      " [5808.0888  ]\n",
      " [5301.16704 ]\n",
      " [5622.90336 ]\n",
      " [4989.7188  ]\n",
      " [4553.56656 ]\n",
      " [4944.35772 ]\n",
      " [5318.15796 ]\n",
      " [5252.53248 ]\n",
      " [5012.3214  ]\n",
      " [6694.42248 ]\n",
      " [5674.96728 ]\n",
      " [5052.38256 ]\n",
      " [4921.1316  ]\n",
      " [4468.61196 ]\n",
      " [5235.69744 ]\n",
      " [5260.01472 ]\n",
      " [4886.838   ]\n",
      " [5012.3214  ]\n",
      " [5607.0036  ]\n",
      " [5522.080176]\n",
      " [5028.06528 ]\n",
      " [6241.4352  ]\n",
      " [5301.16704 ]\n",
      " [5674.96728 ]\n",
      " [5829.912   ]\n",
      " [5401.242   ]\n",
      " [5778.4716  ]\n",
      " [5554.16028 ]\n",
      " [4671.7236  ]\n",
      " [4207.51296 ]\n",
      " [4888.3968  ]\n",
      " [4896.65844 ]\n",
      " [5208.10668 ]\n",
      " [5035.07988 ]\n",
      " [5744.48976 ]\n",
      " [5267.1852  ]\n",
      " [5435.5356  ]\n",
      " [5692.58172 ]\n",
      " [5097.89952 ]\n",
      " [5069.68524 ]\n",
      " [5080.44096 ]\n",
      " [5006.8656  ]\n",
      " [4567.90752 ]\n",
      " [4862.05308 ]\n",
      " [4269.5532  ]\n",
      " [4723.63164 ]\n",
      " [4731.26976 ]\n",
      " [4355.2872  ]]\n"
     ]
    }
   ],
   "source": [
    "#Calculating MSE,RMSE and Mean Absolute Error for testing data set\n",
    "w =0\n",
    "w1=0\n",
    "for i in range(len(test_x)):\n",
    "    v=m*train_x[i]+c\n",
    "    z = int(train_y[i])-int(v)\n",
    "    w += z**2\n",
    "    w1 +=abs(z)\n",
    "\n",
    "mse_test = w/len(test_x)\n",
    "mae_test = w1/len(test_x)\n",
    "print(\"MSE for test data:\",mse_test)\n",
    "print(\"RMSE for testing data:\",mse_test**0.5)\n",
    "print(\"Mean Absolute Error for testing data:\",mae_test)\n",
    "for i in range(len(x)):\n",
    "    x[i] = x[i]*(x_max - x_min)+x_min\n",
    "    y[i] = y[i]*(y_max - y_min)+y_min\n",
    "\n",
    "print(y)"
   ]
  },
  {
   "cell_type": "code",
   "execution_count": 23,
   "metadata": {},
   "outputs": [
    {
     "name": "stdout",
     "output_type": "stream",
     "text": [
      "Enter value of x:234\n",
      "Estimated load based on its previous value is:  [4804.71712987]\n"
     ]
    }
   ],
   "source": [
    "# Deploying model  \n",
    "x_value =float(input(\"Enter value of x:\"))\n",
    "x_value = (x_value-x_min)/(x_max-x_min)\n",
    "y_value = m*x_value+c\n",
    "y_value = y_value*(y_max-y_min)+y_min\n",
    "\n",
    "print(\"Estimated load based on its previous value is: \",y_value)"
   ]
  },
  {
   "cell_type": "code",
   "execution_count": null,
   "metadata": {},
   "outputs": [],
   "source": []
  }
 ],
 "metadata": {
  "kernelspec": {
   "display_name": "Python 3",
   "language": "python",
   "name": "python3"
  },
  "language_info": {
   "codemirror_mode": {
    "name": "ipython",
    "version": 3
   },
   "file_extension": ".py",
   "mimetype": "text/x-python",
   "name": "python",
   "nbconvert_exporter": "python",
   "pygments_lexer": "ipython3",
   "version": "3.7.4"
  }
 },
 "nbformat": 4,
 "nbformat_minor": 2
}
