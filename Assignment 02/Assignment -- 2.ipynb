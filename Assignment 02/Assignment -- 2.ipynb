{
 "cells": [
  {
   "cell_type": "code",
   "execution_count": 41,
   "metadata": {},
   "outputs": [
    {
     "name": "stdout",
     "output_type": "stream",
     "text": [
      "Global minimum points are (x =  1.92 , y =  2.56 )\n",
      "\n",
      "Global minimum value is :  20.240000000000002\n"
     ]
    }
   ],
   "source": [
    "#Assignment-2\n",
    "#Global minimum point for the Multivariable\n",
    "n=0.1   \n",
    "epochs=2\n",
    "x=3\n",
    "y=4\n",
    "def dfx(x):\n",
    "    return 2*x\n",
    "def dfy(y):\n",
    "    return 2*y\n",
    "def f(x, y):\n",
    "    return x**2+y**2+10\n",
    "for i in range(0,epochs,1):\n",
    "    \n",
    "    dfx1=dfx(x)\n",
    "    dfy1=dfy(y)\n",
    "    dx=-n*dfx1\n",
    "    dy=-n*dfy1\n",
    "    x=x+dx\n",
    "    y=y+dy\n",
    "    \n",
    "g_min=f(x,y)\n",
    "print(\"Global minimum points are\",\"(x = \",x,\", y = \",y,\")\")\n",
    "print(\"\\nGlobal minimum value is : \",g_min)\n",
    "\n",
    "    "
   ]
  },
  {
   "cell_type": "code",
   "execution_count": null,
   "metadata": {},
   "outputs": [],
   "source": []
  }
 ],
 "metadata": {
  "kernelspec": {
   "display_name": "Python 3",
   "language": "python",
   "name": "python3"
  },
  "language_info": {
   "codemirror_mode": {
    "name": "ipython",
    "version": 3
   },
   "file_extension": ".py",
   "mimetype": "text/x-python",
   "name": "python",
   "nbconvert_exporter": "python",
   "pygments_lexer": "ipython3",
   "version": "3.7.4"
  }
 },
 "nbformat": 4,
 "nbformat_minor": 2
}
