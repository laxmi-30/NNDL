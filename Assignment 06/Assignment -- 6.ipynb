{
 "cells": [
  {
   "cell_type": "code",
   "execution_count": 1,
   "metadata": {},
   "outputs": [
    {
     "name": "stdout",
     "output_type": "stream",
     "text": [
      "hello world\n"
     ]
    }
   ],
   "source": [
    "print(\"hello world\")"
   ]
  },
  {
   "cell_type": "code",
   "execution_count": 2,
   "metadata": {},
   "outputs": [],
   "source": [
    "#MGBGD Optimizer\n",
    "import numpy as np\n",
    "import pandas as pd\n",
    "from sklearn.model_selection import train_test_split"
   ]
  },
  {
   "cell_type": "code",
   "execution_count": 3,
   "metadata": {},
   "outputs": [
    {
     "name": "stdout",
     "output_type": "stream",
     "text": [
      "               id             date     price  bedrooms  bathrooms  \\\n",
      "0      7129300520  20141013T000000  221900.0         3       1.00   \n",
      "1      6414100192  20141209T000000  538000.0         3       2.25   \n",
      "2      5631500400  20150225T000000  180000.0         2       1.00   \n",
      "3      2487200875  20141209T000000  604000.0         4       3.00   \n",
      "4      1954400510  20150218T000000  510000.0         3       2.00   \n",
      "...           ...              ...       ...       ...        ...   \n",
      "21608   263000018  20140521T000000  360000.0         3       2.50   \n",
      "21609  6600060120  20150223T000000  400000.0         4       2.50   \n",
      "21610  1523300141  20140623T000000  402101.0         2       0.75   \n",
      "21611   291310100  20150116T000000  400000.0         3       2.50   \n",
      "21612  1523300157  20141015T000000  325000.0         2       0.75   \n",
      "\n",
      "       sqft_living  sqft_lot  floors  waterfront  view  ...  grade  \\\n",
      "0             1180      5650     1.0           0     0  ...      7   \n",
      "1             2570      7242     2.0           0     0  ...      7   \n",
      "2              770     10000     1.0           0     0  ...      6   \n",
      "3             1960      5000     1.0           0     0  ...      7   \n",
      "4             1680      8080     1.0           0     0  ...      8   \n",
      "...            ...       ...     ...         ...   ...  ...    ...   \n",
      "21608         1530      1131     3.0           0     0  ...      8   \n",
      "21609         2310      5813     2.0           0     0  ...      8   \n",
      "21610         1020      1350     2.0           0     0  ...      7   \n",
      "21611         1600      2388     2.0           0     0  ...      8   \n",
      "21612         1020      1076     2.0           0     0  ...      7   \n",
      "\n",
      "       sqft_above  sqft_basement  yr_built  yr_renovated  zipcode      lat  \\\n",
      "0            1180              0      1955             0    98178  47.5112   \n",
      "1            2170            400      1951          1991    98125  47.7210   \n",
      "2             770              0      1933             0    98028  47.7379   \n",
      "3            1050            910      1965             0    98136  47.5208   \n",
      "4            1680              0      1987             0    98074  47.6168   \n",
      "...           ...            ...       ...           ...      ...      ...   \n",
      "21608        1530              0      2009             0    98103  47.6993   \n",
      "21609        2310              0      2014             0    98146  47.5107   \n",
      "21610        1020              0      2009             0    98144  47.5944   \n",
      "21611        1600              0      2004             0    98027  47.5345   \n",
      "21612        1020              0      2008             0    98144  47.5941   \n",
      "\n",
      "          long  sqft_living15  sqft_lot15  \n",
      "0     -122.257           1340        5650  \n",
      "1     -122.319           1690        7639  \n",
      "2     -122.233           2720        8062  \n",
      "3     -122.393           1360        5000  \n",
      "4     -122.045           1800        7503  \n",
      "...        ...            ...         ...  \n",
      "21608 -122.346           1530        1509  \n",
      "21609 -122.362           1830        7200  \n",
      "21610 -122.299           1020        2007  \n",
      "21611 -122.069           1410        1287  \n",
      "21612 -122.299           1020        1357  \n",
      "\n",
      "[21613 rows x 21 columns]\n"
     ]
    }
   ],
   "source": [
    "d = pd.read_csv('kc_house_data.csv')\n",
    "print(d)"
   ]
  },
  {
   "cell_type": "code",
   "execution_count": 4,
   "metadata": {},
   "outputs": [
    {
     "name": "stdout",
     "output_type": "stream",
     "text": [
      "13540 290\n",
      "7700000.0 75000.0\n"
     ]
    }
   ],
   "source": [
    "x_max = d['sqft_living'].max()\n",
    "x_min = d['sqft_living'].min()\n",
    "y_max = d['price'].max()\n",
    "y_min = d['price'].min()\n",
    "print(x_max,x_min)\n",
    "print(y_max,y_min)"
   ]
  },
  {
   "cell_type": "code",
   "execution_count": 5,
   "metadata": {},
   "outputs": [
    {
     "name": "stdout",
     "output_type": "stream",
     "text": [
      "             id             date     price  bedrooms  bathrooms  sqft_living  \\\n",
      "0      0.720103  20141013T000000  0.019266  0.090909    0.12500     0.067170   \n",
      "1      0.647853  20141209T000000  0.060721  0.090909    0.28125     0.172075   \n",
      "2      0.568795  20150225T000000  0.013770  0.060606    0.12500     0.036226   \n",
      "3      0.251157  20141209T000000  0.069377  0.121212    0.37500     0.126038   \n",
      "4      0.197333  20150218T000000  0.057049  0.090909    0.25000     0.104906   \n",
      "...         ...              ...       ...       ...        ...          ...   \n",
      "21608  0.026467  20140521T000000  0.037377  0.090909    0.31250     0.093585   \n",
      "21609  0.666639  20150223T000000  0.042623  0.121212    0.31250     0.152453   \n",
      "21610  0.153783  20140623T000000  0.042898  0.060606    0.09375     0.055094   \n",
      "21611  0.029327  20150116T000000  0.042623  0.090909    0.31250     0.098868   \n",
      "21612  0.153783  20141015T000000  0.032787  0.060606    0.09375     0.055094   \n",
      "\n",
      "       sqft_lot  floors  waterfront  view  ...     grade  sqft_above  \\\n",
      "0      0.003108     0.0         0.0   0.0  ...  0.500000    0.097588   \n",
      "1      0.004072     0.4         0.0   0.0  ...  0.500000    0.206140   \n",
      "2      0.005743     0.0         0.0   0.0  ...  0.416667    0.052632   \n",
      "3      0.002714     0.0         0.0   0.0  ...  0.500000    0.083333   \n",
      "4      0.004579     0.0         0.0   0.0  ...  0.583333    0.152412   \n",
      "...         ...     ...         ...   ...  ...       ...         ...   \n",
      "21608  0.000370     0.8         0.0   0.0  ...  0.583333    0.135965   \n",
      "21609  0.003206     0.4         0.0   0.0  ...  0.583333    0.221491   \n",
      "21610  0.000503     0.4         0.0   0.0  ...  0.500000    0.080044   \n",
      "21611  0.001132     0.4         0.0   0.0  ...  0.583333    0.143640   \n",
      "21612  0.000337     0.4         0.0   0.0  ...  0.500000    0.080044   \n",
      "\n",
      "       sqft_basement  yr_built  yr_renovated   zipcode       lat      long  \\\n",
      "0           0.000000  0.478261      0.000000  0.893939  0.571498  0.217608   \n",
      "1           0.082988  0.443478      0.988089  0.626263  0.908959  0.166113   \n",
      "2           0.000000  0.286957      0.000000  0.136364  0.936143  0.237542   \n",
      "3           0.188797  0.565217      0.000000  0.681818  0.586939  0.104651   \n",
      "4           0.000000  0.756522      0.000000  0.368687  0.741354  0.393688   \n",
      "...              ...       ...           ...       ...       ...       ...   \n",
      "21608       0.000000  0.947826      0.000000  0.515152  0.874055  0.143688   \n",
      "21609       0.000000  0.991304      0.000000  0.732323  0.570693  0.130399   \n",
      "21610       0.000000  0.947826      0.000000  0.722222  0.705324  0.182724   \n",
      "21611       0.000000  0.904348      0.000000  0.131313  0.608975  0.373754   \n",
      "21612       0.000000  0.939130      0.000000  0.722222  0.704842  0.182724   \n",
      "\n",
      "       sqft_living15  sqft_lot15  \n",
      "0           0.161934    0.005742  \n",
      "1           0.222165    0.008027  \n",
      "2           0.399415    0.008513  \n",
      "3           0.165376    0.004996  \n",
      "4           0.241094    0.007871  \n",
      "...              ...         ...  \n",
      "21608       0.194631    0.000986  \n",
      "21609       0.246257    0.007523  \n",
      "21610       0.106866    0.001558  \n",
      "21611       0.173980    0.000731  \n",
      "21612       0.106866    0.000811  \n",
      "\n",
      "[21613 rows x 21 columns]\n",
      "[[0.06716981]\n",
      " [0.17207547]\n",
      " [0.03622642]\n",
      " ...\n",
      " [0.05509434]\n",
      " [0.09886792]\n",
      " [0.05509434]]\n"
     ]
    }
   ],
   "source": [
    "for i in d:\n",
    "    if i!= 'date':\n",
    "        d[i]=(d[i]-d[i].min())/(d[i].max()-d[i].min())\n",
    "print(d)\n",
    "x=np.array(d.iloc[:,5:6])\n",
    "y=np.array(d.iloc[:,2:3])\n",
    "print(x)\n"
   ]
  },
  {
   "cell_type": "code",
   "execution_count": 6,
   "metadata": {},
   "outputs": [],
   "source": [
    "#Splitting the data into training and testing data\n",
    "train_x,test_x = train_test_split(x,test_size =0.1)\n",
    "train_y,test_y= train_test_split(y,test_size =0.1)"
   ]
  },
  {
   "cell_type": "code",
   "execution_count": 7,
   "metadata": {},
   "outputs": [],
   "source": [
    "m=1\n",
    "c=1\n",
    "n=0.001\n",
    "epochs=100\n",
    "bs=2\n",
    "nb = len(train_x)//2"
   ]
  },
  {
   "cell_type": "code",
   "execution_count": 8,
   "metadata": {},
   "outputs": [],
   "source": [
    "for i in range(epochs):\n",
    "    batch = 0\n",
    "    t=0\n",
    "    while batch < nb:\n",
    "        h = 0\n",
    "        gm =0\n",
    "        gc =0\n",
    "        while h<bs:\n",
    "            q = train_y[t]-m*train_x[t]-c\n",
    "            gm += q*train_x[t]\n",
    "            gc +=  q\n",
    "            h =h+1\n",
    "        gdm = -(gm)/bs\n",
    "        gdc = -(gc)/bs\n",
    "        dm = -n*gdm\n",
    "        dc = -n*gdc\n",
    "        m = m + dm\n",
    "        c = c + dc\n",
    "        batch = batch+1\n",
    "        t=t+2"
   ]
  },
  {
   "cell_type": "code",
   "execution_count": 9,
   "metadata": {},
   "outputs": [
    {
     "name": "stdout",
     "output_type": "stream",
     "text": [
      "Final updated model parametres m =  [0.00305058] and c = [0.06122216]\n"
     ]
    }
   ],
   "source": [
    "#printing final model parametErs(m and c) values  \n",
    "print(\"Final updated model parametres m = \",m,\"and c =\",c)"
   ]
  },
  {
   "cell_type": "code",
   "execution_count": 10,
   "metadata": {},
   "outputs": [],
   "source": [
    "# calculating MSE,RMSE and Mean Absolute Error for Training Data Set\n",
    "q = 0\n",
    "q1=0\n",
    "l1=len(train_x)\n",
    "for i in range(l1):\n",
    "    v = m*train_x[i]+c\n",
    "    z = int(train_y[i])-int(v)\n",
    "    q = q+z**2\n",
    "    q1 = q1+abs(z)"
   ]
  },
  {
   "cell_type": "code",
   "execution_count": 11,
   "metadata": {},
   "outputs": [
    {
     "name": "stdout",
     "output_type": "stream",
     "text": [
      "MSE for training data: 5.141123849673539e-05\n",
      "RMSE for training data: 0.007170163073231695\n",
      "Mean Absolute Error for trained dataset: 5.141123849673539e-05\n"
     ]
    }
   ],
   "source": [
    "mse_train = q/len(train_x)\n",
    "mae_train = q1/len(train_x)\n",
    "print(\"MSE for training data:\",mse_train)\n",
    "print(\"RMSE for training data:\",mse_train**0.5)\n",
    "print(\"Mean Absolute Error for trained dataset:\",mae_train)"
   ]
  },
  {
   "cell_type": "code",
   "execution_count": 12,
   "metadata": {},
   "outputs": [
    {
     "name": "stdout",
     "output_type": "stream",
     "text": [
      "MSE for test data: 0.0\n",
      "RMSE for testing data: 0.0\n",
      "Mean Absolute Error for testing data: 0.0\n"
     ]
    }
   ],
   "source": [
    "#calculating Mean square error,Root mean square error and mean absolute error for testing data set\n",
    "w =0\n",
    "w1=0\n",
    "for i in range(len(test_x)):\n",
    "    v=m*train_x[i]+c\n",
    "    z = int(train_y[i])-int(v)\n",
    "    w += z**2\n",
    "    w1 +=abs(z)\n",
    "\n",
    "mse_test = w/len(test_x)\n",
    "mae_test = w1/len(test_x)\n",
    "print(\"MSE for test data:\",mse_test)\n",
    "print(\"RMSE for testing data:\",mse_test**0.5)\n",
    "print(\"Mean Absolute Error for testing data:\",mae_test)"
   ]
  },
  {
   "cell_type": "code",
   "execution_count": 14,
   "metadata": {},
   "outputs": [
    {
     "name": "stdout",
     "output_type": "stream",
     "text": [
      "[1.69198758e+12]\n",
      "Enter value of x:34\n",
      "House price based on square feet area is:  541369\n"
     ]
    }
   ],
   "source": [
    "# Denormalising the data\n",
    "for i in range(len(x)):\n",
    "    x[i] = ((x[i]*(x_max-x_min))+x_min)\n",
    "    y[i] = ((y[i]*(y_max-y_min))+y_min)\n",
    "print(y[0])\n",
    "# Deploying model  \n",
    "x_val =int(input(\"Enter value of x:\"))\n",
    "x_val = (x_val-x_min)/(x_max-x_min)\n",
    "y_val = m*x_val+c\n",
    "y_val = y_val*(y_max-y_min)+y_min\n",
    "print(\"House price based on square feet area is: \",int(y_val))"
   ]
  },
  {
   "cell_type": "code",
   "execution_count": null,
   "metadata": {},
   "outputs": [],
   "source": []
  }
 ],
 "metadata": {
  "kernelspec": {
   "display_name": "Python 3",
   "language": "python",
   "name": "python3"
  },
  "language_info": {
   "codemirror_mode": {
    "name": "ipython",
    "version": 3
   },
   "file_extension": ".py",
   "mimetype": "text/x-python",
   "name": "python",
   "nbconvert_exporter": "python",
   "pygments_lexer": "ipython3",
   "version": "3.7.4"
  }
 },
 "nbformat": 4,
 "nbformat_minor": 2
}
